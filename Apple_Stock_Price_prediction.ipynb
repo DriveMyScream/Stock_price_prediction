{
  "nbformat": 4,
  "nbformat_minor": 0,
  "metadata": {
    "colab": {
      "provenance": []
    },
    "kernelspec": {
      "name": "python3",
      "display_name": "Python 3"
    },
    "language_info": {
      "name": "python"
    }
  },
  "cells": [
    {
      "cell_type": "markdown",
      "source": [
        "# Imports"
      ],
      "metadata": {
        "id": "9nxMubEyjk_-"
      }
    },
    {
      "cell_type": "code",
      "execution_count": 1,
      "metadata": {
        "id": "RKhvtAXGqQaU"
      },
      "outputs": [],
      "source": [
        "import numpy as np\n",
        "import pandas as pd\n",
        "import matplotlib.pyplot as plt\n",
        "import seaborn as sns\n",
        "import tensorflow as tf"
      ]
    },
    {
      "cell_type": "code",
      "source": [
        "! https://raw.githubusercontent.com/DriveMyScream/Stock_price_prediction/main/Apple%20Stock%20Price.csv"
      ],
      "metadata": {
        "colab": {
          "base_uri": "https://localhost:8080/"
        },
        "id": "gRchH-W6qwuU",
        "outputId": "02cc153d-e583-49c2-fb55-362435276c5d"
      },
      "execution_count": 2,
      "outputs": [
        {
          "output_type": "stream",
          "name": "stdout",
          "text": [
            "/bin/bash: https://raw.githubusercontent.com/DriveMyScream/Stock_price_prediction/main/Apple%20Stock%20Price.csv: No such file or directory\n"
          ]
        }
      ]
    },
    {
      "cell_type": "markdown",
      "source": [
        "# data Loading"
      ],
      "metadata": {
        "id": "ik0QY4cljp9X"
      }
    },
    {
      "cell_type": "code",
      "source": [
        "data_path = \"/content/Apple Stock Price.csv\"\n",
        "dataset = pd.read_csv(data_path, parse_dates=['Date'])\n",
        "dataset.head(5)"
      ],
      "metadata": {
        "colab": {
          "base_uri": "https://localhost:8080/",
          "height": 206
        },
        "id": "fgiZJaKiru3f",
        "outputId": "0ca05c77-69ad-4fb6-e4f6-5e2675cb92d8"
      },
      "execution_count": 3,
      "outputs": [
        {
          "output_type": "execute_result",
          "data": {
            "text/plain": [
              "        Date     Open    High     Low    Close     Volume\n",
              "0 2023-05-11  173.850  174.59  172.17  173.750   49514680\n",
              "1 2023-05-10  173.020  174.03  171.90  173.555   53724500\n",
              "2 2023-05-09  173.050  173.54  171.60  171.770   45326871\n",
              "3 2023-05-08  172.480  173.85  172.11  173.500   55962793\n",
              "4 2023-05-05  170.975  174.30  170.76  173.570  113453203"
            ],
            "text/html": [
              "\n",
              "  <div id=\"df-d746caf1-67bb-4997-8d1d-5c97aa0ace4e\">\n",
              "    <div class=\"colab-df-container\">\n",
              "      <div>\n",
              "<style scoped>\n",
              "    .dataframe tbody tr th:only-of-type {\n",
              "        vertical-align: middle;\n",
              "    }\n",
              "\n",
              "    .dataframe tbody tr th {\n",
              "        vertical-align: top;\n",
              "    }\n",
              "\n",
              "    .dataframe thead th {\n",
              "        text-align: right;\n",
              "    }\n",
              "</style>\n",
              "<table border=\"1\" class=\"dataframe\">\n",
              "  <thead>\n",
              "    <tr style=\"text-align: right;\">\n",
              "      <th></th>\n",
              "      <th>Date</th>\n",
              "      <th>Open</th>\n",
              "      <th>High</th>\n",
              "      <th>Low</th>\n",
              "      <th>Close</th>\n",
              "      <th>Volume</th>\n",
              "    </tr>\n",
              "  </thead>\n",
              "  <tbody>\n",
              "    <tr>\n",
              "      <th>0</th>\n",
              "      <td>2023-05-11</td>\n",
              "      <td>173.850</td>\n",
              "      <td>174.59</td>\n",
              "      <td>172.17</td>\n",
              "      <td>173.750</td>\n",
              "      <td>49514680</td>\n",
              "    </tr>\n",
              "    <tr>\n",
              "      <th>1</th>\n",
              "      <td>2023-05-10</td>\n",
              "      <td>173.020</td>\n",
              "      <td>174.03</td>\n",
              "      <td>171.90</td>\n",
              "      <td>173.555</td>\n",
              "      <td>53724500</td>\n",
              "    </tr>\n",
              "    <tr>\n",
              "      <th>2</th>\n",
              "      <td>2023-05-09</td>\n",
              "      <td>173.050</td>\n",
              "      <td>173.54</td>\n",
              "      <td>171.60</td>\n",
              "      <td>171.770</td>\n",
              "      <td>45326871</td>\n",
              "    </tr>\n",
              "    <tr>\n",
              "      <th>3</th>\n",
              "      <td>2023-05-08</td>\n",
              "      <td>172.480</td>\n",
              "      <td>173.85</td>\n",
              "      <td>172.11</td>\n",
              "      <td>173.500</td>\n",
              "      <td>55962793</td>\n",
              "    </tr>\n",
              "    <tr>\n",
              "      <th>4</th>\n",
              "      <td>2023-05-05</td>\n",
              "      <td>170.975</td>\n",
              "      <td>174.30</td>\n",
              "      <td>170.76</td>\n",
              "      <td>173.570</td>\n",
              "      <td>113453203</td>\n",
              "    </tr>\n",
              "  </tbody>\n",
              "</table>\n",
              "</div>\n",
              "      <button class=\"colab-df-convert\" onclick=\"convertToInteractive('df-d746caf1-67bb-4997-8d1d-5c97aa0ace4e')\"\n",
              "              title=\"Convert this dataframe to an interactive table.\"\n",
              "              style=\"display:none;\">\n",
              "        \n",
              "  <svg xmlns=\"http://www.w3.org/2000/svg\" height=\"24px\"viewBox=\"0 0 24 24\"\n",
              "       width=\"24px\">\n",
              "    <path d=\"M0 0h24v24H0V0z\" fill=\"none\"/>\n",
              "    <path d=\"M18.56 5.44l.94 2.06.94-2.06 2.06-.94-2.06-.94-.94-2.06-.94 2.06-2.06.94zm-11 1L8.5 8.5l.94-2.06 2.06-.94-2.06-.94L8.5 2.5l-.94 2.06-2.06.94zm10 10l.94 2.06.94-2.06 2.06-.94-2.06-.94-.94-2.06-.94 2.06-2.06.94z\"/><path d=\"M17.41 7.96l-1.37-1.37c-.4-.4-.92-.59-1.43-.59-.52 0-1.04.2-1.43.59L10.3 9.45l-7.72 7.72c-.78.78-.78 2.05 0 2.83L4 21.41c.39.39.9.59 1.41.59.51 0 1.02-.2 1.41-.59l7.78-7.78 2.81-2.81c.8-.78.8-2.07 0-2.86zM5.41 20L4 18.59l7.72-7.72 1.47 1.35L5.41 20z\"/>\n",
              "  </svg>\n",
              "      </button>\n",
              "      \n",
              "  <style>\n",
              "    .colab-df-container {\n",
              "      display:flex;\n",
              "      flex-wrap:wrap;\n",
              "      gap: 12px;\n",
              "    }\n",
              "\n",
              "    .colab-df-convert {\n",
              "      background-color: #E8F0FE;\n",
              "      border: none;\n",
              "      border-radius: 50%;\n",
              "      cursor: pointer;\n",
              "      display: none;\n",
              "      fill: #1967D2;\n",
              "      height: 32px;\n",
              "      padding: 0 0 0 0;\n",
              "      width: 32px;\n",
              "    }\n",
              "\n",
              "    .colab-df-convert:hover {\n",
              "      background-color: #E2EBFA;\n",
              "      box-shadow: 0px 1px 2px rgba(60, 64, 67, 0.3), 0px 1px 3px 1px rgba(60, 64, 67, 0.15);\n",
              "      fill: #174EA6;\n",
              "    }\n",
              "\n",
              "    [theme=dark] .colab-df-convert {\n",
              "      background-color: #3B4455;\n",
              "      fill: #D2E3FC;\n",
              "    }\n",
              "\n",
              "    [theme=dark] .colab-df-convert:hover {\n",
              "      background-color: #434B5C;\n",
              "      box-shadow: 0px 1px 3px 1px rgba(0, 0, 0, 0.15);\n",
              "      filter: drop-shadow(0px 1px 2px rgba(0, 0, 0, 0.3));\n",
              "      fill: #FFFFFF;\n",
              "    }\n",
              "  </style>\n",
              "\n",
              "      <script>\n",
              "        const buttonEl =\n",
              "          document.querySelector('#df-d746caf1-67bb-4997-8d1d-5c97aa0ace4e button.colab-df-convert');\n",
              "        buttonEl.style.display =\n",
              "          google.colab.kernel.accessAllowed ? 'block' : 'none';\n",
              "\n",
              "        async function convertToInteractive(key) {\n",
              "          const element = document.querySelector('#df-d746caf1-67bb-4997-8d1d-5c97aa0ace4e');\n",
              "          const dataTable =\n",
              "            await google.colab.kernel.invokeFunction('convertToInteractive',\n",
              "                                                     [key], {});\n",
              "          if (!dataTable) return;\n",
              "\n",
              "          const docLinkHtml = 'Like what you see? Visit the ' +\n",
              "            '<a target=\"_blank\" href=https://colab.research.google.com/notebooks/data_table.ipynb>data table notebook</a>'\n",
              "            + ' to learn more about interactive tables.';\n",
              "          element.innerHTML = '';\n",
              "          dataTable['output_type'] = 'display_data';\n",
              "          await google.colab.output.renderOutput(dataTable, element);\n",
              "          const docLink = document.createElement('div');\n",
              "          docLink.innerHTML = docLinkHtml;\n",
              "          element.appendChild(docLink);\n",
              "        }\n",
              "      </script>\n",
              "    </div>\n",
              "  </div>\n",
              "  "
            ]
          },
          "metadata": {},
          "execution_count": 3
        }
      ]
    },
    {
      "cell_type": "code",
      "source": [
        "dataset.info()"
      ],
      "metadata": {
        "colab": {
          "base_uri": "https://localhost:8080/"
        },
        "id": "MfZx29TtIg6o",
        "outputId": "49efc6a4-7f4a-4e33-90e7-e412f7246523"
      },
      "execution_count": 4,
      "outputs": [
        {
          "output_type": "stream",
          "name": "stdout",
          "text": [
            "<class 'pandas.core.frame.DataFrame'>\n",
            "RangeIndex: 1349 entries, 0 to 1348\n",
            "Data columns (total 6 columns):\n",
            " #   Column   Non-Null Count  Dtype         \n",
            "---  ------   --------------  -----         \n",
            " 0   Date     1349 non-null   datetime64[ns]\n",
            " 1    Open    1349 non-null   float64       \n",
            " 2    High    1349 non-null   float64       \n",
            " 3    Low     1349 non-null   float64       \n",
            " 4    Close   1349 non-null   float64       \n",
            " 5    Volume  1349 non-null   int64         \n",
            "dtypes: datetime64[ns](1), float64(4), int64(1)\n",
            "memory usage: 63.4 KB\n"
          ]
        }
      ]
    },
    {
      "cell_type": "code",
      "source": [
        "dataset.describe()"
      ],
      "metadata": {
        "colab": {
          "base_uri": "https://localhost:8080/",
          "height": 300
        },
        "id": "3WAKsVDcKpB-",
        "outputId": "671e7146-cd4a-472e-fc34-c45981bfaf25"
      },
      "execution_count": 5,
      "outputs": [
        {
          "output_type": "execute_result",
          "data": {
            "text/plain": [
              "              Open         High          Low        Close        Volume\n",
              "count  1349.000000  1349.000000  1349.000000  1349.000000  1.349000e+03\n",
              "mean    101.696094   102.929712   100.547024   101.794234  1.134729e+08\n",
              "std      46.894258    47.484211    46.329266    46.938088  5.497331e+07\n",
              "min      35.995000    36.430000    35.500000    35.547500  3.519586e+07\n",
              "25%      51.840000    52.275000    51.357500    51.870000  7.649923e+07\n",
              "50%     114.010000   115.550000   112.250000   113.850000  9.844480e+07\n",
              "75%     145.810000   147.519900   144.460000   146.100000  1.337871e+08\n",
              "max     182.630000   182.940000   179.120000   182.010000  4.268848e+08"
            ],
            "text/html": [
              "\n",
              "  <div id=\"df-9da5af5f-1755-450d-ae76-602b8a5da2bb\">\n",
              "    <div class=\"colab-df-container\">\n",
              "      <div>\n",
              "<style scoped>\n",
              "    .dataframe tbody tr th:only-of-type {\n",
              "        vertical-align: middle;\n",
              "    }\n",
              "\n",
              "    .dataframe tbody tr th {\n",
              "        vertical-align: top;\n",
              "    }\n",
              "\n",
              "    .dataframe thead th {\n",
              "        text-align: right;\n",
              "    }\n",
              "</style>\n",
              "<table border=\"1\" class=\"dataframe\">\n",
              "  <thead>\n",
              "    <tr style=\"text-align: right;\">\n",
              "      <th></th>\n",
              "      <th>Open</th>\n",
              "      <th>High</th>\n",
              "      <th>Low</th>\n",
              "      <th>Close</th>\n",
              "      <th>Volume</th>\n",
              "    </tr>\n",
              "  </thead>\n",
              "  <tbody>\n",
              "    <tr>\n",
              "      <th>count</th>\n",
              "      <td>1349.000000</td>\n",
              "      <td>1349.000000</td>\n",
              "      <td>1349.000000</td>\n",
              "      <td>1349.000000</td>\n",
              "      <td>1.349000e+03</td>\n",
              "    </tr>\n",
              "    <tr>\n",
              "      <th>mean</th>\n",
              "      <td>101.696094</td>\n",
              "      <td>102.929712</td>\n",
              "      <td>100.547024</td>\n",
              "      <td>101.794234</td>\n",
              "      <td>1.134729e+08</td>\n",
              "    </tr>\n",
              "    <tr>\n",
              "      <th>std</th>\n",
              "      <td>46.894258</td>\n",
              "      <td>47.484211</td>\n",
              "      <td>46.329266</td>\n",
              "      <td>46.938088</td>\n",
              "      <td>5.497331e+07</td>\n",
              "    </tr>\n",
              "    <tr>\n",
              "      <th>min</th>\n",
              "      <td>35.995000</td>\n",
              "      <td>36.430000</td>\n",
              "      <td>35.500000</td>\n",
              "      <td>35.547500</td>\n",
              "      <td>3.519586e+07</td>\n",
              "    </tr>\n",
              "    <tr>\n",
              "      <th>25%</th>\n",
              "      <td>51.840000</td>\n",
              "      <td>52.275000</td>\n",
              "      <td>51.357500</td>\n",
              "      <td>51.870000</td>\n",
              "      <td>7.649923e+07</td>\n",
              "    </tr>\n",
              "    <tr>\n",
              "      <th>50%</th>\n",
              "      <td>114.010000</td>\n",
              "      <td>115.550000</td>\n",
              "      <td>112.250000</td>\n",
              "      <td>113.850000</td>\n",
              "      <td>9.844480e+07</td>\n",
              "    </tr>\n",
              "    <tr>\n",
              "      <th>75%</th>\n",
              "      <td>145.810000</td>\n",
              "      <td>147.519900</td>\n",
              "      <td>144.460000</td>\n",
              "      <td>146.100000</td>\n",
              "      <td>1.337871e+08</td>\n",
              "    </tr>\n",
              "    <tr>\n",
              "      <th>max</th>\n",
              "      <td>182.630000</td>\n",
              "      <td>182.940000</td>\n",
              "      <td>179.120000</td>\n",
              "      <td>182.010000</td>\n",
              "      <td>4.268848e+08</td>\n",
              "    </tr>\n",
              "  </tbody>\n",
              "</table>\n",
              "</div>\n",
              "      <button class=\"colab-df-convert\" onclick=\"convertToInteractive('df-9da5af5f-1755-450d-ae76-602b8a5da2bb')\"\n",
              "              title=\"Convert this dataframe to an interactive table.\"\n",
              "              style=\"display:none;\">\n",
              "        \n",
              "  <svg xmlns=\"http://www.w3.org/2000/svg\" height=\"24px\"viewBox=\"0 0 24 24\"\n",
              "       width=\"24px\">\n",
              "    <path d=\"M0 0h24v24H0V0z\" fill=\"none\"/>\n",
              "    <path d=\"M18.56 5.44l.94 2.06.94-2.06 2.06-.94-2.06-.94-.94-2.06-.94 2.06-2.06.94zm-11 1L8.5 8.5l.94-2.06 2.06-.94-2.06-.94L8.5 2.5l-.94 2.06-2.06.94zm10 10l.94 2.06.94-2.06 2.06-.94-2.06-.94-.94-2.06-.94 2.06-2.06.94z\"/><path d=\"M17.41 7.96l-1.37-1.37c-.4-.4-.92-.59-1.43-.59-.52 0-1.04.2-1.43.59L10.3 9.45l-7.72 7.72c-.78.78-.78 2.05 0 2.83L4 21.41c.39.39.9.59 1.41.59.51 0 1.02-.2 1.41-.59l7.78-7.78 2.81-2.81c.8-.78.8-2.07 0-2.86zM5.41 20L4 18.59l7.72-7.72 1.47 1.35L5.41 20z\"/>\n",
              "  </svg>\n",
              "      </button>\n",
              "      \n",
              "  <style>\n",
              "    .colab-df-container {\n",
              "      display:flex;\n",
              "      flex-wrap:wrap;\n",
              "      gap: 12px;\n",
              "    }\n",
              "\n",
              "    .colab-df-convert {\n",
              "      background-color: #E8F0FE;\n",
              "      border: none;\n",
              "      border-radius: 50%;\n",
              "      cursor: pointer;\n",
              "      display: none;\n",
              "      fill: #1967D2;\n",
              "      height: 32px;\n",
              "      padding: 0 0 0 0;\n",
              "      width: 32px;\n",
              "    }\n",
              "\n",
              "    .colab-df-convert:hover {\n",
              "      background-color: #E2EBFA;\n",
              "      box-shadow: 0px 1px 2px rgba(60, 64, 67, 0.3), 0px 1px 3px 1px rgba(60, 64, 67, 0.15);\n",
              "      fill: #174EA6;\n",
              "    }\n",
              "\n",
              "    [theme=dark] .colab-df-convert {\n",
              "      background-color: #3B4455;\n",
              "      fill: #D2E3FC;\n",
              "    }\n",
              "\n",
              "    [theme=dark] .colab-df-convert:hover {\n",
              "      background-color: #434B5C;\n",
              "      box-shadow: 0px 1px 3px 1px rgba(0, 0, 0, 0.15);\n",
              "      filter: drop-shadow(0px 1px 2px rgba(0, 0, 0, 0.3));\n",
              "      fill: #FFFFFF;\n",
              "    }\n",
              "  </style>\n",
              "\n",
              "      <script>\n",
              "        const buttonEl =\n",
              "          document.querySelector('#df-9da5af5f-1755-450d-ae76-602b8a5da2bb button.colab-df-convert');\n",
              "        buttonEl.style.display =\n",
              "          google.colab.kernel.accessAllowed ? 'block' : 'none';\n",
              "\n",
              "        async function convertToInteractive(key) {\n",
              "          const element = document.querySelector('#df-9da5af5f-1755-450d-ae76-602b8a5da2bb');\n",
              "          const dataTable =\n",
              "            await google.colab.kernel.invokeFunction('convertToInteractive',\n",
              "                                                     [key], {});\n",
              "          if (!dataTable) return;\n",
              "\n",
              "          const docLinkHtml = 'Like what you see? Visit the ' +\n",
              "            '<a target=\"_blank\" href=https://colab.research.google.com/notebooks/data_table.ipynb>data table notebook</a>'\n",
              "            + ' to learn more about interactive tables.';\n",
              "          element.innerHTML = '';\n",
              "          dataTable['output_type'] = 'display_data';\n",
              "          await google.colab.output.renderOutput(dataTable, element);\n",
              "          const docLink = document.createElement('div');\n",
              "          docLink.innerHTML = docLinkHtml;\n",
              "          element.appendChild(docLink);\n",
              "        }\n",
              "      </script>\n",
              "    </div>\n",
              "  </div>\n",
              "  "
            ]
          },
          "metadata": {},
          "execution_count": 5
        }
      ]
    },
    {
      "cell_type": "code",
      "source": [
        "dataset.columns"
      ],
      "metadata": {
        "colab": {
          "base_uri": "https://localhost:8080/"
        },
        "id": "BeGeeDhpH605",
        "outputId": "41a98eee-04e3-4cdf-eb71-d9e3ed87ff10"
      },
      "execution_count": 6,
      "outputs": [
        {
          "output_type": "execute_result",
          "data": {
            "text/plain": [
              "Index(['Date', ' Open', ' High', ' Low', ' Close', ' Volume'], dtype='object')"
            ]
          },
          "metadata": {},
          "execution_count": 6
        }
      ]
    },
    {
      "cell_type": "code",
      "source": [
        "import matplotlib.pyplot as plt\n",
        "dataset[' Close'].plot(figsize=(10, 7))\n",
        "plt.ylabel(\"ETH Price\")\n",
        "plt.title(\"Price of Apple Stock\", fontsize=16)\n",
        "plt.legend(fontsize=14);"
      ],
      "metadata": {
        "colab": {
          "base_uri": "https://localhost:8080/",
          "height": 624
        },
        "id": "6wfPRoEuKsNN",
        "outputId": "acb1ec18-710a-4b91-cfa0-ab0d6e484116"
      },
      "execution_count": 8,
      "outputs": [
        {
          "output_type": "display_data",
          "data": {
            "text/plain": [
              "<Figure size 1000x700 with 1 Axes>"
            ],
            "image/png": "[encoded data removed]"
          },
          "metadata": {}
        }
      ]
    },
    {
      "cell_type": "code",
      "source": [],
      "metadata": {
        "id": "vREFntgwQ4es"
      },
      "execution_count": null,
      "outputs": []
    },
    {
      "cell_type": "code",
      "source": [],
      "metadata": {
        "id": "e_v74HeyQ5G3"
      },
      "execution_count": null,
      "outputs": []
    },
    {
      "cell_type": "code",
      "source": [
        "price_data = dataset[' Close'].values\n",
        "price_data"
      ],
      "metadata": {
        "colab": {
          "base_uri": "https://localhost:8080/"
        },
        "id": "juGxQ7bjRE5v",
        "outputId": "252d219d-c5a9-4a95-f86f-69696e04f642"
      },
      "execution_count": 9,
      "outputs": [
        {
          "output_type": "execute_result",
          "data": {
            "text/plain": [
              "array([173.75  , 173.555 , 171.77  , ...,  43.2575,  43.0575,  43.065 ])"
            ]
          },
          "metadata": {},
          "execution_count": 9
        }
      ]
    },
    {
      "cell_type": "code",
      "source": [
        "price_data.shape"
      ],
      "metadata": {
        "colab": {
          "base_uri": "https://localhost:8080/"
        },
        "id": "MZitbEKIReji",
        "outputId": "6ef69c30-4fe3-4e1c-bbd5-eed94f6e611a"
      },
      "execution_count": 10,
      "outputs": [
        {
          "output_type": "execute_result",
          "data": {
            "text/plain": [
              "(1349,)"
            ]
          },
          "metadata": {},
          "execution_count": 10
        }
      ]
    },
    {
      "cell_type": "code",
      "source": [
        "train_data, test_data = price_data[0:1200], price_data[1200:]"
      ],
      "metadata": {
        "id": "PZN10RpgRo3U"
      },
      "execution_count": 11,
      "outputs": []
    },
    {
      "cell_type": "code",
      "source": [
        "train_data.shape, test_data.shape"
      ],
      "metadata": {
        "colab": {
          "base_uri": "https://localhost:8080/"
        },
        "id": "3hxrDzK3RpJA",
        "outputId": "feb994e2-fd56-49a9-a9a4-7db9793e0583"
      },
      "execution_count": 12,
      "outputs": [
        {
          "output_type": "execute_result",
          "data": {
            "text/plain": [
              "((1200,), (149,))"
            ]
          },
          "metadata": {},
          "execution_count": 12
        }
      ]
    },
    {
      "cell_type": "code",
      "source": [
        "def windowed_dataset(series, time_step):\n",
        "    dataX, dataY = [], []\n",
        "    for i in range(len(series) - time_step - 1):\n",
        "        a = series[i : i + time_step]  # Remove the indexing with \", 0\"\n",
        "        dataX.append(a)\n",
        "        dataY.append(series[i + time_step])\n",
        "        \n",
        "    return np.array(dataX), np.array(dataY)"
      ],
      "metadata": {
        "id": "HNXnFWf8SJMT"
      },
      "execution_count": 13,
      "outputs": []
    },
    {
      "cell_type": "code",
      "source": [
        "X_train, y_train = windowed_dataset(train_data, time_step=7)\n",
        "X_test, y_test = windowed_dataset(test_data, time_step=7)"
      ],
      "metadata": {
        "id": "CrcXsapOSJXx"
      },
      "execution_count": 14,
      "outputs": []
    },
    {
      "cell_type": "code",
      "source": [
        "X_train.shape, y_train.shape, X_test.shape, y_test.shape"
      ],
      "metadata": {
        "colab": {
          "base_uri": "https://localhost:8080/"
        },
        "id": "lHZS3N7ASSwq",
        "outputId": "08c7fb36-1beb-4596-832b-7c53dbcf602b"
      },
      "execution_count": 15,
      "outputs": [
        {
          "output_type": "execute_result",
          "data": {
            "text/plain": [
              "((1192, 7), (1192,), (141, 7), (141,))"
            ]
          },
          "metadata": {},
          "execution_count": 15
        }
      ]
    },
    {
      "cell_type": "code",
      "source": [
        "X_train = X_train.reshape(X_train.shape[0], X_train.shape[1], 1)\n",
        "X_test = X_test.reshape(X_test.shape[0], X_test.shape[1], 1)\n",
        "\n",
        "print(X_train.shape) \n",
        "print(X_test.shape)"
      ],
      "metadata": {
        "colab": {
          "base_uri": "https://localhost:8080/"
        },
        "id": "vNyapBF2SV6B",
        "outputId": "fd530026-ee3b-4391-9649-54929a93e5ec"
      },
      "execution_count": 16,
      "outputs": [
        {
          "output_type": "stream",
          "name": "stdout",
          "text": [
            "(1192, 7, 1)\n",
            "(141, 7, 1)\n"
          ]
        }
      ]
    },
    {
      "cell_type": "code",
      "source": [
        "X_train[0]"
      ],
      "metadata": {
        "colab": {
          "base_uri": "https://localhost:8080/"
        },
        "id": "IRaIl8SQP2kz",
        "outputId": "13725620-edcb-44ad-9ea0-7232e2944325"
      },
      "execution_count": 17,
      "outputs": [
        {
          "output_type": "execute_result",
          "data": {
            "text/plain": [
              "array([[173.75 ],\n",
              "       [173.555],\n",
              "       [171.77 ],\n",
              "       [173.5  ],\n",
              "       [173.57 ],\n",
              "       [165.79 ],\n",
              "       [167.45 ]])"
            ]
          },
          "metadata": {},
          "execution_count": 17
        }
      ]
    },
    {
      "cell_type": "code",
      "source": [
        "import tensorflow as tf\n",
        "from tensorflow.keras import models, layers"
      ],
      "metadata": {
        "id": "poOi-84Ykab6"
      },
      "execution_count": 18,
      "outputs": []
    },
    {
      "cell_type": "code",
      "source": [
        "# Create the LSTM model\n",
        "model = models.Sequential()\n",
        "\n",
        "model.add(layers.Input(shape = (7, 1), dtype=tf.float32))\n",
        "# Add the Normalization layer\n",
        "model.add(layers.Normalization())\n",
        "\n",
        "# Specify the mean and variance for normalization\n",
        "model.layers[0].adapt(X_train)\n",
        "\n",
        "model.add(layers.LSTM(units=100, activation='relu', return_sequences=True))\n",
        "model.add(layers.Dropout(0.3))\n",
        "\n",
        "model.add(layers.LSTM(units=50, activation='relu', return_sequences=True))\n",
        "model.add(layers.Dropout(0.4))\n",
        "\n",
        "model.add(layers.LSTM(units=10, activation='relu'))\n",
        "model.add(layers.Dropout(0.2))\n",
        "\n",
        "model.add(layers.Dense(units=1))"
      ],
      "metadata": {
        "id": "25cXgPpbTMN5"
      },
      "execution_count": 19,
      "outputs": []
    },
    {
      "cell_type": "code",
      "source": [
        "model.summary()"
      ],
      "metadata": {
        "colab": {
          "base_uri": "https://localhost:8080/"
        },
        "id": "-IhqBiwCVKA_",
        "outputId": "e4acd473-9598-4bd2-c219-caef478ccf91"
      },
      "execution_count": 20,
      "outputs": [
        {
          "output_type": "stream",
          "name": "stdout",
          "text": [
            "Model: \"sequential\"\n",
            "_________________________________________________________________\n",
            " Layer (type)                Output Shape              Param #   \n",
            "=================================================================\n",
            " normalization (Normalizatio  (None, 7, 1)             3         \n",
            " n)                                                              \n",
            "                                                                 \n",
            " lstm (LSTM)                 (None, 7, 100)            40800     \n",
            "                                                                 \n",
            " dropout (Dropout)           (None, 7, 100)            0         \n",
            "                                                                 \n",
            " lstm_1 (LSTM)               (None, 7, 50)             30200     \n",
            "                                                                 \n",
            " dropout_1 (Dropout)         (None, 7, 50)             0         \n",
            "                                                                 \n",
            " lstm_2 (LSTM)               (None, 10)                2440      \n",
            "                                                                 \n",
            " dropout_2 (Dropout)         (None, 10)                0         \n",
            "                                                                 \n",
            " dense (Dense)               (None, 1)                 11        \n",
            "                                                                 \n",
            "=================================================================\n",
            "Total params: 73,454\n",
            "Trainable params: 73,451\n",
            "Non-trainable params: 3\n",
            "_________________________________________________________________\n"
          ]
        }
      ]
    },
    {
      "cell_type": "code",
      "source": [
        "model.compile(optimizer = 'adamax', loss = 'mse', metrics = 'mae')"
      ],
      "metadata": {
        "id": "a8vNqJrrXR-G"
      },
      "execution_count": 21,
      "outputs": []
    },
    {
      "cell_type": "code",
      "source": [
        "# Fitting the RNN to the Training set\n",
        "history = model.fit(X_train, y_train, validation_split=0.1, epochs = 30, batch_size = 32, verbose=1, shuffle=False)"
      ],
      "metadata": {
        "colab": {
          "base_uri": "https://localhost:8080/"
        },
        "id": "r8sNewtrVPyh",
        "outputId": "223ac4ca-4d9e-4f9a-cd30-02e648f62ec2"
      },
      "execution_count": 22,
      "outputs": [
        {
          "output_type": "stream",
          "name": "stdout",
          "text": [
            "Epoch 1/30\n",
            "34/34 [==============================] - 7s 36ms/step - loss: 15051.5879 - mae: 115.1715 - val_loss: 2413.1765 - val_mae: 48.6109\n",
            "Epoch 2/30\n",
            "34/34 [==============================] - 1s 18ms/step - loss: 14986.9688 - mae: 114.8422 - val_loss: 2328.6650 - val_mae: 47.7189\n",
            "Epoch 3/30\n",
            "34/34 [==============================] - 1s 17ms/step - loss: 14546.9619 - mae: 112.2832 - val_loss: 1321.9628 - val_mae: 35.1076\n",
            "Epoch 4/30\n",
            "34/34 [==============================] - 1s 20ms/step - loss: 9880.6924 - mae: 90.0353 - val_loss: 1621.6030 - val_mae: 35.9661\n",
            "Epoch 5/30\n",
            "34/34 [==============================] - 1s 21ms/step - loss: 4275.7573 - mae: 52.8011 - val_loss: 173.3478 - val_mae: 12.3802\n",
            "Epoch 6/30\n",
            "34/34 [==============================] - 1s 20ms/step - loss: 3070.7031 - mae: 46.3106 - val_loss: 335.5136 - val_mae: 13.1866\n",
            "Epoch 7/30\n",
            "34/34 [==============================] - 1s 20ms/step - loss: 3061.7947 - mae: 44.0503 - val_loss: 378.4564 - val_mae: 13.9706\n",
            "Epoch 8/30\n",
            "34/34 [==============================] - 1s 19ms/step - loss: 2603.3169 - mae: 41.4785 - val_loss: 502.0756 - val_mae: 17.8637\n",
            "Epoch 9/30\n",
            "34/34 [==============================] - 1s 21ms/step - loss: 2261.8408 - mae: 38.7037 - val_loss: 427.3011 - val_mae: 16.1482\n",
            "Epoch 10/30\n",
            "34/34 [==============================] - 1s 29ms/step - loss: 2403.3054 - mae: 39.4121 - val_loss: 387.6944 - val_mae: 15.2664\n",
            "Epoch 11/30\n",
            "34/34 [==============================] - 1s 29ms/step - loss: 2070.4788 - mae: 36.4126 - val_loss: 547.4156 - val_mae: 19.8985\n",
            "Epoch 12/30\n",
            "34/34 [==============================] - 1s 27ms/step - loss: 2024.9478 - mae: 35.1131 - val_loss: 413.2220 - val_mae: 16.7213\n",
            "Epoch 13/30\n",
            "34/34 [==============================] - 1s 20ms/step - loss: 1974.0289 - mae: 34.6935 - val_loss: 412.1284 - val_mae: 17.0328\n",
            "Epoch 14/30\n",
            "34/34 [==============================] - 1s 19ms/step - loss: 1832.2406 - mae: 33.6736 - val_loss: 375.7912 - val_mae: 16.3441\n",
            "Epoch 15/30\n",
            "34/34 [==============================] - 1s 18ms/step - loss: 1857.0120 - mae: 34.0309 - val_loss: 313.7166 - val_mae: 14.5541\n",
            "Epoch 16/30\n",
            "34/34 [==============================] - 1s 19ms/step - loss: 1696.2144 - mae: 31.9453 - val_loss: 318.6588 - val_mae: 14.9874\n",
            "Epoch 17/30\n",
            "34/34 [==============================] - 1s 18ms/step - loss: 1563.4574 - mae: 30.3566 - val_loss: 268.6169 - val_mae: 13.5120\n",
            "Epoch 18/30\n",
            "34/34 [==============================] - 1s 18ms/step - loss: 1701.2583 - mae: 31.5385 - val_loss: 296.4962 - val_mae: 14.7519\n",
            "Epoch 19/30\n",
            "34/34 [==============================] - 1s 17ms/step - loss: 1460.2487 - mae: 29.0987 - val_loss: 258.3015 - val_mae: 13.6509\n",
            "Epoch 20/30\n",
            "34/34 [==============================] - 1s 18ms/step - loss: 1604.2145 - mae: 30.6828 - val_loss: 239.3184 - val_mae: 13.1546\n",
            "Epoch 21/30\n",
            "34/34 [==============================] - 1s 18ms/step - loss: 1507.1705 - mae: 30.2235 - val_loss: 219.3362 - val_mae: 12.6192\n",
            "Epoch 22/30\n",
            "34/34 [==============================] - 1s 17ms/step - loss: 1353.8989 - mae: 28.0568 - val_loss: 120.7731 - val_mae: 8.2275\n",
            "Epoch 23/30\n",
            "34/34 [==============================] - 1s 19ms/step - loss: 1578.1385 - mae: 30.3776 - val_loss: 148.5933 - val_mae: 9.9371\n",
            "Epoch 24/30\n",
            "34/34 [==============================] - 1s 20ms/step - loss: 1376.7985 - mae: 27.9109 - val_loss: 107.1910 - val_mae: 7.8476\n",
            "Epoch 25/30\n",
            "34/34 [==============================] - 1s 20ms/step - loss: 1273.9020 - mae: 26.8238 - val_loss: 105.3064 - val_mae: 7.9675\n",
            "Epoch 26/30\n",
            "34/34 [==============================] - 1s 21ms/step - loss: 1305.2158 - mae: 27.4928 - val_loss: 76.3360 - val_mae: 6.3649\n",
            "Epoch 27/30\n",
            "34/34 [==============================] - 1s 19ms/step - loss: 1421.1973 - mae: 28.0800 - val_loss: 67.7836 - val_mae: 5.9507\n",
            "Epoch 28/30\n",
            "34/34 [==============================] - 1s 26ms/step - loss: 1216.2261 - mae: 26.0481 - val_loss: 46.2494 - val_mae: 4.9525\n",
            "Epoch 29/30\n",
            "34/34 [==============================] - 1s 28ms/step - loss: 1214.3573 - mae: 26.0503 - val_loss: 45.6032 - val_mae: 4.8195\n",
            "Epoch 30/30\n",
            "34/34 [==============================] - 1s 30ms/step - loss: 1313.4103 - mae: 27.1725 - val_loss: 35.2921 - val_mae: 4.5049\n"
          ]
        }
      ]
    },
    {
      "cell_type": "code",
      "source": [
        "plt.figure(figsize=(16,7))\n",
        "plt.plot(history.history[\"loss\"], label= \"train loss\")\n",
        "plt.plot(history.history[\"val_loss\"], label= \"validation loss\")\n",
        "plt.legend();"
      ],
      "metadata": {
        "colab": {
          "base_uri": "https://localhost:8080/",
          "height": 511
        },
        "id": "LrXki-umXP8V",
        "outputId": "8d0f3130-ce68-495f-88bf-5cae2f3143e7"
      },
      "execution_count": 23,
      "outputs": [
        {
          "output_type": "display_data",
          "data": {
            "text/plain": [
              "<Figure size 1600x700 with 1 Axes>"
            ],
            "image/png": "[encoded data removed]"
          },
          "metadata": {}
        }
      ]
    },
    {
      "cell_type": "code",
      "source": [
        "train_predict = model.predict(X_train)\n",
        "test_predict = model.predict(X_test)"
      ],
      "metadata": {
        "colab": {
          "base_uri": "https://localhost:8080/"
        },
        "id": "SXJeCP6NXjtc",
        "outputId": "52e13bef-60b4-4937-81cf-77ab21dad4a4"
      },
      "execution_count": 24,
      "outputs": [
        {
          "output_type": "stream",
          "name": "stdout",
          "text": [
            "38/38 [==============================] - 1s 5ms/step\n",
            "5/5 [==============================] - 0s 6ms/step\n"
          ]
        }
      ]
    },
    {
      "cell_type": "code",
      "source": [
        "plt.figure(figsize=(16,7))\n",
        "plt.plot(y_test.flatten(), marker='.', label=\"Actual\")\n",
        "plt.plot(test_predict.flatten(), 'r', marker='.', label=\"Predicted\")\n",
        "plt.legend();"
      ],
      "metadata": {
        "colab": {
          "base_uri": "https://localhost:8080/",
          "height": 520
        },
        "id": "aDRR_XonXoTg",
        "outputId": "9757a2ab-5d8f-4065-9946-95295d6d0764"
      },
      "execution_count": 25,
      "outputs": [
        {
          "output_type": "display_data",
          "data": {
            "text/plain": [
              "<Figure size 1600x700 with 1 Axes>"
            ],
            "image/png": "[encoded data removed]"
          },
          "metadata": {}
        }
      ]
    },
    {
      "cell_type": "code",
      "source": [
        "from sklearn.metrics import mean_absolute_error, mean_squared_error\n",
        "\n",
        "train_RMSE = np.sqrt(mean_squared_error(y_train, train_predict))\n",
        "test_RMSE = np.sqrt(mean_squared_error(y_test, test_predict))\n",
        "train_MAE = np.sqrt(mean_absolute_error(y_train, train_predict))\n",
        "test_MAE = np.sqrt(mean_absolute_error(y_test, test_predict))\n",
        "\n",
        "\n",
        "print(f\"Train RMSE: {train_RMSE}\")\n",
        "print(f\"Train MAE: {train_MAE}\")\n",
        "\n",
        "print(f\"Test RMSE: {test_RMSE}\")\n",
        "print(f\"Test MAE: {test_MAE}\")"
      ],
      "metadata": {
        "colab": {
          "base_uri": "https://localhost:8080/"
        },
        "id": "n8bwLaVrXoqO",
        "outputId": "11da98b0-31d2-4d9f-8a78-a89a16006aea"
      },
      "execution_count": 26,
      "outputs": [
        {
          "output_type": "stream",
          "name": "stdout",
          "text": [
            "Train RMSE: 7.072652703685887\n",
            "Train MAE: 2.3721545406549858\n",
            "Test RMSE: 5.666903547263067\n",
            "Test MAE: 2.310584655270984\n"
          ]
        }
      ]
    },
    {
      "cell_type": "markdown",
      "source": [
        "# at Inference"
      ],
      "metadata": {
        "id": "kdaXuZYhlE_x"
      }
    },
    {
      "cell_type": "code",
      "source": [
        "model.save(\"Apple_Stock_Price_Prediction\")"
      ],
      "metadata": {
        "colab": {
          "base_uri": "https://localhost:8080/"
        },
        "id": "mYHkypxhk9cH",
        "outputId": "373834c4-6b51-4701-9bb6-85eb071a957e"
      },
      "execution_count": 27,
      "outputs": [
        {
          "output_type": "stream",
          "name": "stderr",
          "text": [
            "WARNING:absl:Found untraced functions such as _update_step_xla while saving (showing 1 of 1). These functions will not be directly callable after loading.\n"
          ]
        }
      ]
    },
    {
      "cell_type": "code",
      "source": [
        "import tensorflow as tf\n",
        "import numpy as np"
      ],
      "metadata": {
        "id": "dOotGRTfn3Sd"
      },
      "execution_count": 28,
      "outputs": []
    },
    {
      "cell_type": "code",
      "source": [
        "from google.colab import drive\n",
        "drive.mount('/content/drive')"
      ],
      "metadata": {
        "colab": {
          "base_uri": "https://localhost:8080/"
        },
        "id": "uvh9oOxmLRgm",
        "outputId": "efdfbc34-2185-4f53-93eb-3d52acbd54b7"
      },
      "execution_count": 29,
      "outputs": [
        {
          "output_type": "stream",
          "name": "stdout",
          "text": [
            "Mounted at /content/drive\n"
          ]
        }
      ]
    },
    {
      "cell_type": "code",
      "source": [
        "model = tf.keras.saving.load_model(\"/content/Apple_Stock_Price_Prediction\")"
      ],
      "metadata": {
        "id": "aons6uoDk9fV"
      },
      "execution_count": 30,
      "outputs": []
    },
    {
      "cell_type": "code",
      "source": [
        "%cp -av /content/Apple_Stock_Price_Prediction /content/drive/MyDrive/Stock_Price_Prediction"
      ],
      "metadata": {
        "colab": {
          "base_uri": "https://localhost:8080/"
        },
        "id": "zR_uT07bk9ih",
        "outputId": "b6b797d0-cf61-47b0-8eab-a634f5eeb1ac"
      },
      "execution_count": 31,
      "outputs": [
        {
          "output_type": "stream",
          "name": "stdout",
          "text": [
            "'/content/Apple_Stock_Price_Prediction' -> '/content/drive/MyDrive/Stock_Price_Prediction/Apple_Stock_Price_Prediction'\n",
            "'/content/Apple_Stock_Price_Prediction/variables' -> '/content/drive/MyDrive/Stock_Price_Prediction/Apple_Stock_Price_Prediction/variables'\n",
            "'/content/Apple_Stock_Price_Prediction/variables/variables.data-00000-of-00001' -> '/content/drive/MyDrive/Stock_Price_Prediction/Apple_Stock_Price_Prediction/variables/variables.data-00000-of-00001'\n",
            "'/content/Apple_Stock_Price_Prediction/variables/variables.index' -> '/content/drive/MyDrive/Stock_Price_Prediction/Apple_Stock_Price_Prediction/variables/variables.index'\n",
            "'/content/Apple_Stock_Price_Prediction/assets' -> '/content/drive/MyDrive/Stock_Price_Prediction/Apple_Stock_Price_Prediction/assets'\n",
            "'/content/Apple_Stock_Price_Prediction/fingerprint.pb' -> '/content/drive/MyDrive/Stock_Price_Prediction/Apple_Stock_Price_Prediction/fingerprint.pb'\n",
            "'/content/Apple_Stock_Price_Prediction/saved_model.pb' -> '/content/drive/MyDrive/Stock_Price_Prediction/Apple_Stock_Price_Prediction/saved_model.pb'\n",
            "'/content/Apple_Stock_Price_Prediction/keras_metadata.pb' -> '/content/drive/MyDrive/Stock_Price_Prediction/Apple_Stock_Price_Prediction/keras_metadata.pb'\n"
          ]
        }
      ]
    },
    {
      "cell_type": "code",
      "source": [
        "X_test[0].shape"
      ],
      "metadata": {
        "colab": {
          "base_uri": "https://localhost:8080/"
        },
        "id": "rUKUT-QaaaKt",
        "outputId": "65830426-7ba0-45af-be9d-64cebfe69d74"
      },
      "execution_count": 32,
      "outputs": [
        {
          "output_type": "execute_result",
          "data": {
            "text/plain": [
              "(7, 1)"
            ]
          },
          "metadata": {},
          "execution_count": 32
        }
      ]
    },
    {
      "cell_type": "code",
      "source": [],
      "metadata": {
        "id": "sOTsOQ_AohXj"
      },
      "execution_count": 32,
      "outputs": []
    },
    {
      "cell_type": "code",
      "source": [
        "prices = np.array([[173.75 ],\n",
        "       [173.555],\n",
        "       [171.77 ],\n",
        "       [173.5  ],\n",
        "       [173.57 ],\n",
        "       [165.79 ],\n",
        "       [167.45 ]])\n",
        "\n",
        "prices = prices.reshape(1, -1, 1)\n",
        "prediction_price = model.predict(prices)\n",
        "prediction_price = prediction_price[0][0]\n",
        "print(\"Prediction Price: \", prediction_price)"
      ],
      "metadata": {
        "id": "ae5tO4X4bCIB",
        "colab": {
          "base_uri": "https://localhost:8080/"
        },
        "outputId": "683cdbe9-0e05-4bf2-b693-5818719ad58c"
      },
      "execution_count": 33,
      "outputs": [
        {
          "output_type": "stream",
          "name": "stdout",
          "text": [
            "1/1 [==============================] - 1s 747ms/step\n",
            "Prediction Price:  175.13193\n"
          ]
        }
      ]
    },
    {
      "cell_type": "code",
      "source": [
        "print(\"Predicted Apple Stock Price: {0:.2f} \".format(prediction_price))"
      ],
      "metadata": {
        "colab": {
          "base_uri": "https://localhost:8080/"
        },
        "id": "3zKBhqE-mehR",
        "outputId": "c323b250-dab3-418a-f5bb-c14b71015567"
      },
      "execution_count": 34,
      "outputs": [
        {
          "output_type": "stream",
          "name": "stdout",
          "text": [
            "Predicted Apple Stock Price: 175.13 \n"
          ]
        }
      ]
    },
    {
      "cell_type": "code",
      "source": [
        "tf.__version__"
      ],
      "metadata": {
        "colab": {
          "base_uri": "https://localhost:8080/",
          "height": 36
        },
        "id": "3zHdsckN0-HS",
        "outputId": "7146f759-18af-48ef-b0b7-360e89bb671e"
      },
      "execution_count": null,
      "outputs": [
        {
          "output_type": "execute_result",
          "data": {
            "text/plain": [
              "'2.12.0'"
            ],
            "application/vnd.google.colaboratory.intrinsic+json": {
              "type": "string"
            }
          },
          "metadata": {},
          "execution_count": 40
        }
      ]
    },
    {
      "cell_type": "code",
      "source": [],
      "metadata": {
        "id": "HSrimdY780m5"
      },
      "execution_count": null,
      "outputs": []
    }
  ]
}