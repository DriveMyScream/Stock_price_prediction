{
  "nbformat": 4,
  "nbformat_minor": 0,
  "metadata": {
    "colab": {
      "provenance": []
    },
    "kernelspec": {
      "name": "python3",
      "display_name": "Python 3"
    },
    "language_info": {
      "name": "python"
    }
  },
  "cells": [
    {
      "cell_type": "markdown",
      "source": [
        "# Imports"
      ],
      "metadata": {
        "id": "9nxMubEyjk_-"
      }
    },
    {
      "cell_type": "code",
      "execution_count": 1,
      "metadata": {
        "id": "RKhvtAXGqQaU"
      },
      "outputs": [],
      "source": [
        "import numpy as np\n",
        "import pandas as pd\n",
        "import matplotlib.pyplot as plt\n",
        "import seaborn as sns\n",
        "import tensorflow as tf"
      ]
    },
    {
      "cell_type": "code",
      "source": [
        "! https://raw.githubusercontent.com/DriveMyScream/Stock_price_prediction/main/Microsoft%20Stock%20Price.csv"
      ],
      "metadata": {
        "colab": {
          "base_uri": "https://localhost:8080/"
        },
        "id": "gRchH-W6qwuU",
        "outputId": "6db0cbdc-4837-41c4-96e3-c167b5e59609"
      },
      "execution_count": 4,
      "outputs": [
        {
          "output_type": "stream",
          "name": "stdout",
          "text": [
            "/bin/bash: https://raw.githubusercontent.com/DriveMyScream/Stock_price_prediction/main/Microsoft%20Stock%20Price.csv: No such file or directory\n"
          ]
        }
      ]
    },
    {
      "cell_type": "markdown",
      "source": [
        "# data Loading"
      ],
      "metadata": {
        "id": "ik0QY4cljp9X"
      }
    },
    {
      "cell_type": "code",
      "source": [
        "data_path = \"/content/Microsoft Stock Price.csv\"\n",
        "dataset = pd.read_csv(data_path, parse_dates=['Date'])\n",
        "dataset.head(5)"
      ],
      "metadata": {
        "colab": {
          "base_uri": "https://localhost:8080/",
          "height": 206
        },
        "id": "fgiZJaKiru3f",
        "outputId": "f117f3e6-6937-4531-c405-5983063a69ee"
      },
      "execution_count": 5,
      "outputs": [
        {
          "output_type": "execute_result",
          "data": {
            "text/plain": [
              "        Date    Open    High       Low   Close    Volume\n",
              "0 2023-05-11  310.10  311.12  306.2601  310.11  31680180\n",
              "1 2023-05-10  308.62  313.00  307.6700  312.31  30078039\n",
              "2 2023-05-09  308.00  310.04  306.3100  307.00  21340830\n",
              "3 2023-05-08  310.13  310.20  306.0900  308.65  21318609\n",
              "4 2023-05-05  305.72  311.97  304.2700  310.65  28197051"
            ],
            "text/html": [
              "\n",
              "  <div id=\"df-5e8c51ee-efa2-4e34-b0c3-fc2056f5a117\">\n",
              "    <div class=\"colab-df-container\">\n",
              "      <div>\n",
              "<style scoped>\n",
              "    .dataframe tbody tr th:only-of-type {\n",
              "        vertical-align: middle;\n",
              "    }\n",
              "\n",
              "    .dataframe tbody tr th {\n",
              "        vertical-align: top;\n",
              "    }\n",
              "\n",
              "    .dataframe thead th {\n",
              "        text-align: right;\n",
              "    }\n",
              "</style>\n",
              "<table border=\"1\" class=\"dataframe\">\n",
              "  <thead>\n",
              "    <tr style=\"text-align: right;\">\n",
              "      <th></th>\n",
              "      <th>Date</th>\n",
              "      <th>Open</th>\n",
              "      <th>High</th>\n",
              "      <th>Low</th>\n",
              "      <th>Close</th>\n",
              "      <th>Volume</th>\n",
              "    </tr>\n",
              "  </thead>\n",
              "  <tbody>\n",
              "    <tr>\n",
              "      <th>0</th>\n",
              "      <td>2023-05-11</td>\n",
              "      <td>310.10</td>\n",
              "      <td>311.12</td>\n",
              "      <td>306.2601</td>\n",
              "      <td>310.11</td>\n",
              "      <td>31680180</td>\n",
              "    </tr>\n",
              "    <tr>\n",
              "      <th>1</th>\n",
              "      <td>2023-05-10</td>\n",
              "      <td>308.62</td>\n",
              "      <td>313.00</td>\n",
              "      <td>307.6700</td>\n",
              "      <td>312.31</td>\n",
              "      <td>30078039</td>\n",
              "    </tr>\n",
              "    <tr>\n",
              "      <th>2</th>\n",
              "      <td>2023-05-09</td>\n",
              "      <td>308.00</td>\n",
              "      <td>310.04</td>\n",
              "      <td>306.3100</td>\n",
              "      <td>307.00</td>\n",
              "      <td>21340830</td>\n",
              "    </tr>\n",
              "    <tr>\n",
              "      <th>3</th>\n",
              "      <td>2023-05-08</td>\n",
              "      <td>310.13</td>\n",
              "      <td>310.20</td>\n",
              "      <td>306.0900</td>\n",
              "      <td>308.65</td>\n",
              "      <td>21318609</td>\n",
              "    </tr>\n",
              "    <tr>\n",
              "      <th>4</th>\n",
              "      <td>2023-05-05</td>\n",
              "      <td>305.72</td>\n",
              "      <td>311.97</td>\n",
              "      <td>304.2700</td>\n",
              "      <td>310.65</td>\n",
              "      <td>28197051</td>\n",
              "    </tr>\n",
              "  </tbody>\n",
              "</table>\n",
              "</div>\n",
              "      <button class=\"colab-df-convert\" onclick=\"convertToInteractive('df-5e8c51ee-efa2-4e34-b0c3-fc2056f5a117')\"\n",
              "              title=\"Convert this dataframe to an interactive table.\"\n",
              "              style=\"display:none;\">\n",
              "        \n",
              "  <svg xmlns=\"http://www.w3.org/2000/svg\" height=\"24px\"viewBox=\"0 0 24 24\"\n",
              "       width=\"24px\">\n",
              "    <path d=\"M0 0h24v24H0V0z\" fill=\"none\"/>\n",
              "    <path d=\"M18.56 5.44l.94 2.06.94-2.06 2.06-.94-2.06-.94-.94-2.06-.94 2.06-2.06.94zm-11 1L8.5 8.5l.94-2.06 2.06-.94-2.06-.94L8.5 2.5l-.94 2.06-2.06.94zm10 10l.94 2.06.94-2.06 2.06-.94-2.06-.94-.94-2.06-.94 2.06-2.06.94z\"/><path d=\"M17.41 7.96l-1.37-1.37c-.4-.4-.92-.59-1.43-.59-.52 0-1.04.2-1.43.59L10.3 9.45l-7.72 7.72c-.78.78-.78 2.05 0 2.83L4 21.41c.39.39.9.59 1.41.59.51 0 1.02-.2 1.41-.59l7.78-7.78 2.81-2.81c.8-.78.8-2.07 0-2.86zM5.41 20L4 18.59l7.72-7.72 1.47 1.35L5.41 20z\"/>\n",
              "  </svg>\n",
              "      </button>\n",
              "      \n",
              "  <style>\n",
              "    .colab-df-container {\n",
              "      display:flex;\n",
              "      flex-wrap:wrap;\n",
              "      gap: 12px;\n",
              "    }\n",
              "\n",
              "    .colab-df-convert {\n",
              "      background-color: #E8F0FE;\n",
              "      border: none;\n",
              "      border-radius: 50%;\n",
              "      cursor: pointer;\n",
              "      display: none;\n",
              "      fill: #1967D2;\n",
              "      height: 32px;\n",
              "      padding: 0 0 0 0;\n",
              "      width: 32px;\n",
              "    }\n",
              "\n",
              "    .colab-df-convert:hover {\n",
              "      background-color: #E2EBFA;\n",
              "      box-shadow: 0px 1px 2px rgba(60, 64, 67, 0.3), 0px 1px 3px 1px rgba(60, 64, 67, 0.15);\n",
              "      fill: #174EA6;\n",
              "    }\n",
              "\n",
              "    [theme=dark] .colab-df-convert {\n",
              "      background-color: #3B4455;\n",
              "      fill: #D2E3FC;\n",
              "    }\n",
              "\n",
              "    [theme=dark] .colab-df-convert:hover {\n",
              "      background-color: #434B5C;\n",
              "      box-shadow: 0px 1px 3px 1px rgba(0, 0, 0, 0.15);\n",
              "      filter: drop-shadow(0px 1px 2px rgba(0, 0, 0, 0.3));\n",
              "      fill: #FFFFFF;\n",
              "    }\n",
              "  </style>\n",
              "\n",
              "      <script>\n",
              "        const buttonEl =\n",
              "          document.querySelector('#df-5e8c51ee-efa2-4e34-b0c3-fc2056f5a117 button.colab-df-convert');\n",
              "        buttonEl.style.display =\n",
              "          google.colab.kernel.accessAllowed ? 'block' : 'none';\n",
              "\n",
              "        async function convertToInteractive(key) {\n",
              "          const element = document.querySelector('#df-5e8c51ee-efa2-4e34-b0c3-fc2056f5a117');\n",
              "          const dataTable =\n",
              "            await google.colab.kernel.invokeFunction('convertToInteractive',\n",
              "                                                     [key], {});\n",
              "          if (!dataTable) return;\n",
              "\n",
              "          const docLinkHtml = 'Like what you see? Visit the ' +\n",
              "            '<a target=\"_blank\" href=https://colab.research.google.com/notebooks/data_table.ipynb>data table notebook</a>'\n",
              "            + ' to learn more about interactive tables.';\n",
              "          element.innerHTML = '';\n",
              "          dataTable['output_type'] = 'display_data';\n",
              "          await google.colab.output.renderOutput(dataTable, element);\n",
              "          const docLink = document.createElement('div');\n",
              "          docLink.innerHTML = docLinkHtml;\n",
              "          element.appendChild(docLink);\n",
              "        }\n",
              "      </script>\n",
              "    </div>\n",
              "  </div>\n",
              "  "
            ]
          },
          "metadata": {},
          "execution_count": 5
        }
      ]
    },
    {
      "cell_type": "code",
      "source": [
        "dataset.info()"
      ],
      "metadata": {
        "colab": {
          "base_uri": "https://localhost:8080/"
        },
        "id": "MfZx29TtIg6o",
        "outputId": "b2012fea-8528-496b-9342-875a9418cef6"
      },
      "execution_count": 6,
      "outputs": [
        {
          "output_type": "stream",
          "name": "stdout",
          "text": [
            "<class 'pandas.core.frame.DataFrame'>\n",
            "RangeIndex: 1349 entries, 0 to 1348\n",
            "Data columns (total 6 columns):\n",
            " #   Column   Non-Null Count  Dtype         \n",
            "---  ------   --------------  -----         \n",
            " 0   Date     1349 non-null   datetime64[ns]\n",
            " 1    Open    1349 non-null   float64       \n",
            " 2    High    1349 non-null   float64       \n",
            " 3    Low     1349 non-null   float64       \n",
            " 4    Close   1349 non-null   float64       \n",
            " 5    Volume  1349 non-null   int64         \n",
            "dtypes: datetime64[ns](1), float64(4), int64(1)\n",
            "memory usage: 63.4 KB\n"
          ]
        }
      ]
    },
    {
      "cell_type": "code",
      "source": [
        "dataset.describe()"
      ],
      "metadata": {
        "colab": {
          "base_uri": "https://localhost:8080/",
          "height": 300
        },
        "id": "3WAKsVDcKpB-",
        "outputId": "8140b897-7ec1-4522-b22c-f9fd1573992a"
      },
      "execution_count": 7,
      "outputs": [
        {
          "output_type": "execute_result",
          "data": {
            "text/plain": [
              "              Open         High          Low        Close        Volume\n",
              "count  1349.000000  1349.000000  1349.000000  1349.000000  1.349000e+03\n",
              "mean    198.718012   200.823929   196.524552   198.780808  3.030106e+07\n",
              "std      74.593859    75.373060    73.781757    74.626656  1.272930e+07\n",
              "min      86.055000    86.310000    83.830000    85.010000  8.989150e+06\n",
              "25%     125.260000   125.880000   124.210000   125.520000  2.238812e+07\n",
              "50%     210.050000   212.300000   208.030000   210.110000  2.711053e+07\n",
              "75%     259.750000   262.300000   256.810000   260.260000  3.437166e+07\n",
              "max     344.620000   349.670000   342.200000   343.110000  1.112421e+08"
            ],
            "text/html": [
              "\n",
              "  <div id=\"df-4da33667-d895-4859-bd3a-f5ad87e022c3\">\n",
              "    <div class=\"colab-df-container\">\n",
              "      <div>\n",
              "<style scoped>\n",
              "    .dataframe tbody tr th:only-of-type {\n",
              "        vertical-align: middle;\n",
              "    }\n",
              "\n",
              "    .dataframe tbody tr th {\n",
              "        vertical-align: top;\n",
              "    }\n",
              "\n",
              "    .dataframe thead th {\n",
              "        text-align: right;\n",
              "    }\n",
              "</style>\n",
              "<table border=\"1\" class=\"dataframe\">\n",
              "  <thead>\n",
              "    <tr style=\"text-align: right;\">\n",
              "      <th></th>\n",
              "      <th>Open</th>\n",
              "      <th>High</th>\n",
              "      <th>Low</th>\n",
              "      <th>Close</th>\n",
              "      <th>Volume</th>\n",
              "    </tr>\n",
              "  </thead>\n",
              "  <tbody>\n",
              "    <tr>\n",
              "      <th>count</th>\n",
              "      <td>1349.000000</td>\n",
              "      <td>1349.000000</td>\n",
              "      <td>1349.000000</td>\n",
              "      <td>1349.000000</td>\n",
              "      <td>1.349000e+03</td>\n",
              "    </tr>\n",
              "    <tr>\n",
              "      <th>mean</th>\n",
              "      <td>198.718012</td>\n",
              "      <td>200.823929</td>\n",
              "      <td>196.524552</td>\n",
              "      <td>198.780808</td>\n",
              "      <td>3.030106e+07</td>\n",
              "    </tr>\n",
              "    <tr>\n",
              "      <th>std</th>\n",
              "      <td>74.593859</td>\n",
              "      <td>75.373060</td>\n",
              "      <td>73.781757</td>\n",
              "      <td>74.626656</td>\n",
              "      <td>1.272930e+07</td>\n",
              "    </tr>\n",
              "    <tr>\n",
              "      <th>min</th>\n",
              "      <td>86.055000</td>\n",
              "      <td>86.310000</td>\n",
              "      <td>83.830000</td>\n",
              "      <td>85.010000</td>\n",
              "      <td>8.989150e+06</td>\n",
              "    </tr>\n",
              "    <tr>\n",
              "      <th>25%</th>\n",
              "      <td>125.260000</td>\n",
              "      <td>125.880000</td>\n",
              "      <td>124.210000</td>\n",
              "      <td>125.520000</td>\n",
              "      <td>2.238812e+07</td>\n",
              "    </tr>\n",
              "    <tr>\n",
              "      <th>50%</th>\n",
              "      <td>210.050000</td>\n",
              "      <td>212.300000</td>\n",
              "      <td>208.030000</td>\n",
              "      <td>210.110000</td>\n",
              "      <td>2.711053e+07</td>\n",
              "    </tr>\n",
              "    <tr>\n",
              "      <th>75%</th>\n",
              "      <td>259.750000</td>\n",
              "      <td>262.300000</td>\n",
              "      <td>256.810000</td>\n",
              "      <td>260.260000</td>\n",
              "      <td>3.437166e+07</td>\n",
              "    </tr>\n",
              "    <tr>\n",
              "      <th>max</th>\n",
              "      <td>344.620000</td>\n",
              "      <td>349.670000</td>\n",
              "      <td>342.200000</td>\n",
              "      <td>343.110000</td>\n",
              "      <td>1.112421e+08</td>\n",
              "    </tr>\n",
              "  </tbody>\n",
              "</table>\n",
              "</div>\n",
              "      <button class=\"colab-df-convert\" onclick=\"convertToInteractive('df-4da33667-d895-4859-bd3a-f5ad87e022c3')\"\n",
              "              title=\"Convert this dataframe to an interactive table.\"\n",
              "              style=\"display:none;\">\n",
              "        \n",
              "  <svg xmlns=\"http://www.w3.org/2000/svg\" height=\"24px\"viewBox=\"0 0 24 24\"\n",
              "       width=\"24px\">\n",
              "    <path d=\"M0 0h24v24H0V0z\" fill=\"none\"/>\n",
              "    <path d=\"M18.56 5.44l.94 2.06.94-2.06 2.06-.94-2.06-.94-.94-2.06-.94 2.06-2.06.94zm-11 1L8.5 8.5l.94-2.06 2.06-.94-2.06-.94L8.5 2.5l-.94 2.06-2.06.94zm10 10l.94 2.06.94-2.06 2.06-.94-2.06-.94-.94-2.06-.94 2.06-2.06.94z\"/><path d=\"M17.41 7.96l-1.37-1.37c-.4-.4-.92-.59-1.43-.59-.52 0-1.04.2-1.43.59L10.3 9.45l-7.72 7.72c-.78.78-.78 2.05 0 2.83L4 21.41c.39.39.9.59 1.41.59.51 0 1.02-.2 1.41-.59l7.78-7.78 2.81-2.81c.8-.78.8-2.07 0-2.86zM5.41 20L4 18.59l7.72-7.72 1.47 1.35L5.41 20z\"/>\n",
              "  </svg>\n",
              "      </button>\n",
              "      \n",
              "  <style>\n",
              "    .colab-df-container {\n",
              "      display:flex;\n",
              "      flex-wrap:wrap;\n",
              "      gap: 12px;\n",
              "    }\n",
              "\n",
              "    .colab-df-convert {\n",
              "      background-color: #E8F0FE;\n",
              "      border: none;\n",
              "      border-radius: 50%;\n",
              "      cursor: pointer;\n",
              "      display: none;\n",
              "      fill: #1967D2;\n",
              "      height: 32px;\n",
              "      padding: 0 0 0 0;\n",
              "      width: 32px;\n",
              "    }\n",
              "\n",
              "    .colab-df-convert:hover {\n",
              "      background-color: #E2EBFA;\n",
              "      box-shadow: 0px 1px 2px rgba(60, 64, 67, 0.3), 0px 1px 3px 1px rgba(60, 64, 67, 0.15);\n",
              "      fill: #174EA6;\n",
              "    }\n",
              "\n",
              "    [theme=dark] .colab-df-convert {\n",
              "      background-color: #3B4455;\n",
              "      fill: #D2E3FC;\n",
              "    }\n",
              "\n",
              "    [theme=dark] .colab-df-convert:hover {\n",
              "      background-color: #434B5C;\n",
              "      box-shadow: 0px 1px 3px 1px rgba(0, 0, 0, 0.15);\n",
              "      filter: drop-shadow(0px 1px 2px rgba(0, 0, 0, 0.3));\n",
              "      fill: #FFFFFF;\n",
              "    }\n",
              "  </style>\n",
              "\n",
              "      <script>\n",
              "        const buttonEl =\n",
              "          document.querySelector('#df-4da33667-d895-4859-bd3a-f5ad87e022c3 button.colab-df-convert');\n",
              "        buttonEl.style.display =\n",
              "          google.colab.kernel.accessAllowed ? 'block' : 'none';\n",
              "\n",
              "        async function convertToInteractive(key) {\n",
              "          const element = document.querySelector('#df-4da33667-d895-4859-bd3a-f5ad87e022c3');\n",
              "          const dataTable =\n",
              "            await google.colab.kernel.invokeFunction('convertToInteractive',\n",
              "                                                     [key], {});\n",
              "          if (!dataTable) return;\n",
              "\n",
              "          const docLinkHtml = 'Like what you see? Visit the ' +\n",
              "            '<a target=\"_blank\" href=https://colab.research.google.com/notebooks/data_table.ipynb>data table notebook</a>'\n",
              "            + ' to learn more about interactive tables.';\n",
              "          element.innerHTML = '';\n",
              "          dataTable['output_type'] = 'display_data';\n",
              "          await google.colab.output.renderOutput(dataTable, element);\n",
              "          const docLink = document.createElement('div');\n",
              "          docLink.innerHTML = docLinkHtml;\n",
              "          element.appendChild(docLink);\n",
              "        }\n",
              "      </script>\n",
              "    </div>\n",
              "  </div>\n",
              "  "
            ]
          },
          "metadata": {},
          "execution_count": 7
        }
      ]
    },
    {
      "cell_type": "code",
      "source": [
        "dataset.columns"
      ],
      "metadata": {
        "colab": {
          "base_uri": "https://localhost:8080/"
        },
        "id": "BeGeeDhpH605",
        "outputId": "2231e225-adf2-4926-a36a-9ccfaa4528f2"
      },
      "execution_count": 8,
      "outputs": [
        {
          "output_type": "execute_result",
          "data": {
            "text/plain": [
              "Index(['Date', ' Open', ' High', ' Low', ' Close', ' Volume'], dtype='object')"
            ]
          },
          "metadata": {},
          "execution_count": 8
        }
      ]
    },
    {
      "cell_type": "code",
      "source": [
        "import matplotlib.pyplot as plt\n",
        "dataset[' Close'].plot(figsize=(10, 7))\n",
        "plt.ylabel(\"ETH Price\")\n",
        "plt.title(\"Price of Microsoft Stock\", fontsize=16)\n",
        "plt.legend(fontsize=14);"
      ],
      "metadata": {
        "colab": {
          "base_uri": "https://localhost:8080/",
          "height": 624
        },
        "id": "6wfPRoEuKsNN",
        "outputId": "cc8eed33-b8df-4947-a4fd-8e14c4b05c6c"
      },
      "execution_count": 10,
      "outputs": [
        {
          "output_type": "display_data",
          "data": {
            "text/plain": [
              "<Figure size 1000x700 with 1 Axes>"
            ],
            "image/png": "[encoded data removed]"
          },
          "metadata": {}
        }
      ]
    },
    {
      "cell_type": "code",
      "source": [],
      "metadata": {
        "id": "vREFntgwQ4es"
      },
      "execution_count": null,
      "outputs": []
    },
    {
      "cell_type": "code",
      "source": [],
      "metadata": {
        "id": "e_v74HeyQ5G3"
      },
      "execution_count": null,
      "outputs": []
    },
    {
      "cell_type": "code",
      "source": [
        "price_data = dataset[' Close'].values\n",
        "price_data"
      ],
      "metadata": {
        "colab": {
          "base_uri": "https://localhost:8080/"
        },
        "id": "juGxQ7bjRE5v",
        "outputId": "88d546b1-be6f-446d-f91e-d2bc99b6edd5"
      },
      "execution_count": 11,
      "outputs": [
        {
          "output_type": "execute_result",
          "data": {
            "text/plain": [
              "array([310.11, 312.31, 307.  , ...,  87.11,  86.35,  85.95])"
            ]
          },
          "metadata": {},
          "execution_count": 11
        }
      ]
    },
    {
      "cell_type": "code",
      "source": [
        "price_data.shape"
      ],
      "metadata": {
        "colab": {
          "base_uri": "https://localhost:8080/"
        },
        "id": "MZitbEKIReji",
        "outputId": "5a4d23a7-199c-48cf-b7d0-c9601c3a6914"
      },
      "execution_count": 12,
      "outputs": [
        {
          "output_type": "execute_result",
          "data": {
            "text/plain": [
              "(1349,)"
            ]
          },
          "metadata": {},
          "execution_count": 12
        }
      ]
    },
    {
      "cell_type": "code",
      "source": [
        "train_data, test_data = price_data[0:1200], price_data[1200:]"
      ],
      "metadata": {
        "id": "PZN10RpgRo3U"
      },
      "execution_count": 13,
      "outputs": []
    },
    {
      "cell_type": "code",
      "source": [
        "train_data.shape, test_data.shape"
      ],
      "metadata": {
        "colab": {
          "base_uri": "https://localhost:8080/"
        },
        "id": "3hxrDzK3RpJA",
        "outputId": "2000a30c-f191-4103-e85c-5463b8f6a8d0"
      },
      "execution_count": 14,
      "outputs": [
        {
          "output_type": "execute_result",
          "data": {
            "text/plain": [
              "((1200,), (149,))"
            ]
          },
          "metadata": {},
          "execution_count": 14
        }
      ]
    },
    {
      "cell_type": "code",
      "source": [
        "def windowed_dataset(series, time_step):\n",
        "    dataX, dataY = [], []\n",
        "    for i in range(len(series) - time_step - 1):\n",
        "        a = series[i : i + time_step]  # Remove the indexing with \", 0\"\n",
        "        dataX.append(a)\n",
        "        dataY.append(series[i + time_step])\n",
        "        \n",
        "    return np.array(dataX), np.array(dataY)"
      ],
      "metadata": {
        "id": "HNXnFWf8SJMT"
      },
      "execution_count": 15,
      "outputs": []
    },
    {
      "cell_type": "code",
      "source": [
        "X_train, y_train = windowed_dataset(train_data, time_step=7)\n",
        "X_test, y_test = windowed_dataset(test_data, time_step=7)"
      ],
      "metadata": {
        "id": "CrcXsapOSJXx"
      },
      "execution_count": 16,
      "outputs": []
    },
    {
      "cell_type": "code",
      "source": [
        "X_train.shape, y_train.shape, X_test.shape, y_test.shape"
      ],
      "metadata": {
        "colab": {
          "base_uri": "https://localhost:8080/"
        },
        "id": "lHZS3N7ASSwq",
        "outputId": "6309637e-f347-4528-c732-d7ca9720459c"
      },
      "execution_count": 17,
      "outputs": [
        {
          "output_type": "execute_result",
          "data": {
            "text/plain": [
              "((1192, 7), (1192,), (141, 7), (141,))"
            ]
          },
          "metadata": {},
          "execution_count": 17
        }
      ]
    },
    {
      "cell_type": "code",
      "source": [
        "X_train = X_train.reshape(X_train.shape[0], X_train.shape[1], 1)\n",
        "X_test = X_test.reshape(X_test.shape[0], X_test.shape[1], 1)\n",
        "\n",
        "print(X_train.shape) \n",
        "print(X_test.shape)"
      ],
      "metadata": {
        "colab": {
          "base_uri": "https://localhost:8080/"
        },
        "id": "vNyapBF2SV6B",
        "outputId": "c6088bda-f38d-4196-c2f6-2f127a09e37a"
      },
      "execution_count": 18,
      "outputs": [
        {
          "output_type": "stream",
          "name": "stdout",
          "text": [
            "(1192, 7, 1)\n",
            "(141, 7, 1)\n"
          ]
        }
      ]
    },
    {
      "cell_type": "code",
      "source": [
        "X_train[0]"
      ],
      "metadata": {
        "colab": {
          "base_uri": "https://localhost:8080/"
        },
        "id": "IRaIl8SQP2kz",
        "outputId": "bfef1d71-43e5-4ca2-e884-ed11b8182811"
      },
      "execution_count": 19,
      "outputs": [
        {
          "output_type": "execute_result",
          "data": {
            "text/plain": [
              "array([[310.11],\n",
              "       [312.31],\n",
              "       [307.  ],\n",
              "       [308.65],\n",
              "       [310.65],\n",
              "       [305.41],\n",
              "       [304.4 ]])"
            ]
          },
          "metadata": {},
          "execution_count": 19
        }
      ]
    },
    {
      "cell_type": "code",
      "source": [
        "import tensorflow as tf\n",
        "from tensorflow.keras import models, layers"
      ],
      "metadata": {
        "id": "poOi-84Ykab6"
      },
      "execution_count": 20,
      "outputs": []
    },
    {
      "cell_type": "code",
      "source": [
        "# Create the LSTM model\n",
        "model = models.Sequential()\n",
        "\n",
        "model.add(layers.Input(shape = (7, 1), dtype=tf.float32))\n",
        "# Add the Normalization layer\n",
        "model.add(layers.Normalization())\n",
        "\n",
        "# Specify the mean and variance for normalization\n",
        "model.layers[0].adapt(X_train)\n",
        "\n",
        "model.add(layers.LSTM(units=100, activation='relu', return_sequences=True))\n",
        "model.add(layers.Dropout(0.3))\n",
        "\n",
        "model.add(layers.LSTM(units=50, activation='relu', return_sequences=True))\n",
        "model.add(layers.Dropout(0.4))\n",
        "\n",
        "model.add(layers.LSTM(units=10, activation='relu'))\n",
        "model.add(layers.Dropout(0.2))\n",
        "\n",
        "model.add(layers.Dense(units=1))"
      ],
      "metadata": {
        "id": "25cXgPpbTMN5"
      },
      "execution_count": 21,
      "outputs": []
    },
    {
      "cell_type": "code",
      "source": [
        "model.summary()"
      ],
      "metadata": {
        "colab": {
          "base_uri": "https://localhost:8080/"
        },
        "id": "-IhqBiwCVKA_",
        "outputId": "92ca47c2-77f1-4bce-9eef-d17350731e81"
      },
      "execution_count": 22,
      "outputs": [
        {
          "output_type": "stream",
          "name": "stdout",
          "text": [
            "Model: \"sequential\"\n",
            "_________________________________________________________________\n",
            " Layer (type)                Output Shape              Param #   \n",
            "=================================================================\n",
            " normalization (Normalizatio  (None, 7, 1)             3         \n",
            " n)                                                              \n",
            "                                                                 \n",
            " lstm (LSTM)                 (None, 7, 100)            40800     \n",
            "                                                                 \n",
            " dropout (Dropout)           (None, 7, 100)            0         \n",
            "                                                                 \n",
            " lstm_1 (LSTM)               (None, 7, 50)             30200     \n",
            "                                                                 \n",
            " dropout_1 (Dropout)         (None, 7, 50)             0         \n",
            "                                                                 \n",
            " lstm_2 (LSTM)               (None, 10)                2440      \n",
            "                                                                 \n",
            " dropout_2 (Dropout)         (None, 10)                0         \n",
            "                                                                 \n",
            " dense (Dense)               (None, 1)                 11        \n",
            "                                                                 \n",
            "=================================================================\n",
            "Total params: 73,454\n",
            "Trainable params: 73,451\n",
            "Non-trainable params: 3\n",
            "_________________________________________________________________\n"
          ]
        }
      ]
    },
    {
      "cell_type": "code",
      "source": [
        "model.compile(optimizer = 'adamax', loss = 'mse', metrics = 'mae')"
      ],
      "metadata": {
        "id": "a8vNqJrrXR-G"
      },
      "execution_count": 23,
      "outputs": []
    },
    {
      "cell_type": "code",
      "source": [
        "# Fitting the RNN to the Training set\n",
        "history = model.fit(X_train, y_train, validation_split=0.1, epochs = 30, batch_size = 32, verbose=1, shuffle=False)"
      ],
      "metadata": {
        "colab": {
          "base_uri": "https://localhost:8080/"
        },
        "id": "r8sNewtrVPyh",
        "outputId": "b0c6c34f-0bc0-4503-afe6-55c7fa881d73"
      },
      "execution_count": 24,
      "outputs": [
        {
          "output_type": "stream",
          "name": "stdout",
          "text": [
            "Epoch 1/30\n",
            "34/34 [==============================] - 7s 46ms/step - loss: 53475.2500 - mae: 222.5460 - val_loss: 11569.3838 - val_mae: 107.4818\n",
            "Epoch 2/30\n",
            "34/34 [==============================] - 1s 25ms/step - loss: 53307.7305 - mae: 222.1504 - val_loss: 11347.5986 - val_mae: 106.4442\n",
            "Epoch 3/30\n",
            "34/34 [==============================] - 1s 43ms/step - loss: 52318.8164 - mae: 219.5699 - val_loss: 8329.2617 - val_mae: 91.1327\n",
            "Epoch 4/30\n",
            "34/34 [==============================] - 1s 26ms/step - loss: 39946.8086 - mae: 183.2257 - val_loss: 8235.8086 - val_mae: 90.0924\n",
            "Epoch 5/30\n",
            "34/34 [==============================] - 1s 27ms/step - loss: 14241.6611 - mae: 96.0794 - val_loss: 5186.0635 - val_mae: 71.3410\n",
            "Epoch 6/30\n",
            "34/34 [==============================] - 1s 28ms/step - loss: 10645.7002 - mae: 85.1136 - val_loss: 6233.9604 - val_mae: 78.3856\n",
            "Epoch 7/30\n",
            "34/34 [==============================] - 1s 31ms/step - loss: 10327.2607 - mae: 81.8787 - val_loss: 3410.6509 - val_mae: 57.7949\n",
            "Epoch 8/30\n",
            "34/34 [==============================] - 1s 26ms/step - loss: 9459.1260 - mae: 77.0953 - val_loss: 4646.7314 - val_mae: 67.6655\n",
            "Epoch 9/30\n",
            "34/34 [==============================] - 2s 53ms/step - loss: 8462.4277 - mae: 72.1393 - val_loss: 2797.7083 - val_mae: 52.4385\n",
            "Epoch 11/30\n",
            "34/34 [==============================] - 1s 31ms/step - loss: 8474.3887 - mae: 71.6271 - val_loss: 1984.2656 - val_mae: 44.0543\n",
            "Epoch 12/30\n",
            "34/34 [==============================] - 1s 32ms/step - loss: 7548.5342 - mae: 68.1057 - val_loss: 3542.5427 - val_mae: 59.1548\n",
            "Epoch 13/30\n",
            "34/34 [==============================] - 1s 19ms/step - loss: 7566.3398 - mae: 67.0664 - val_loss: 2893.9399 - val_mae: 53.4173\n",
            "Epoch 14/30\n",
            "34/34 [==============================] - 1s 19ms/step - loss: 6933.4014 - mae: 64.1207 - val_loss: 2645.7786 - val_mae: 51.0675\n",
            "Epoch 15/30\n",
            "34/34 [==============================] - 1s 19ms/step - loss: 7669.7964 - mae: 66.0901 - val_loss: 2146.5913 - val_mae: 45.9428\n",
            "Epoch 16/30\n",
            "34/34 [==============================] - 1s 19ms/step - loss: 7078.2939 - mae: 64.3707 - val_loss: 2485.0867 - val_mae: 49.4902\n",
            "Epoch 17/30\n",
            "34/34 [==============================] - 1s 20ms/step - loss: 6728.4609 - mae: 62.4077 - val_loss: 2844.9248 - val_mae: 53.0108\n",
            "Epoch 18/30\n",
            "34/34 [==============================] - 1s 20ms/step - loss: 6462.2031 - mae: 60.8144 - val_loss: 2327.3274 - val_mae: 47.8942\n",
            "Epoch 19/30\n",
            "34/34 [==============================] - 1s 19ms/step - loss: 6589.5269 - mae: 61.6495 - val_loss: 2585.3867 - val_mae: 50.5327\n",
            "Epoch 20/30\n",
            "34/34 [==============================] - 1s 19ms/step - loss: 6105.1724 - mae: 58.8466 - val_loss: 1811.2925 - val_mae: 42.2105\n",
            "Epoch 21/30\n",
            "34/34 [==============================] - 1s 19ms/step - loss: 6859.9824 - mae: 62.8381 - val_loss: 1853.6445 - val_mae: 42.7359\n",
            "Epoch 22/30\n",
            "34/34 [==============================] - 1s 20ms/step - loss: 5336.7349 - mae: 57.2566 - val_loss: 1541.4846 - val_mae: 38.9341\n",
            "Epoch 23/30\n",
            "34/34 [==============================] - 1s 20ms/step - loss: 5454.6626 - mae: 56.5504 - val_loss: 1392.4645 - val_mae: 36.9906\n",
            "Epoch 24/30\n",
            "34/34 [==============================] - 1s 19ms/step - loss: 5235.2603 - mae: 56.1725 - val_loss: 1485.3756 - val_mae: 38.2345\n",
            "Epoch 25/30\n",
            "34/34 [==============================] - 1s 19ms/step - loss: 5247.1787 - mae: 55.4942 - val_loss: 1149.9637 - val_mae: 33.5865\n",
            "Epoch 26/30\n",
            "34/34 [==============================] - 1s 19ms/step - loss: 4989.5649 - mae: 54.7166 - val_loss: 810.3654 - val_mae: 28.1120\n",
            "Epoch 27/30\n",
            "34/34 [==============================] - 1s 18ms/step - loss: 5145.0679 - mae: 54.8325 - val_loss: 872.3428 - val_mae: 29.2035\n",
            "Epoch 28/30\n",
            "34/34 [==============================] - 1s 29ms/step - loss: 5069.9043 - mae: 54.0620 - val_loss: 763.4916 - val_mae: 27.2788\n",
            "Epoch 29/30\n",
            "34/34 [==============================] - 1s 31ms/step - loss: 5064.8628 - mae: 54.6575 - val_loss: 708.7115 - val_mae: 26.2869\n",
            "Epoch 30/30\n",
            "34/34 [==============================] - 1s 31ms/step - loss: 4933.6719 - mae: 53.8474 - val_loss: 515.0036 - val_mae: 22.3250\n"
          ]
        }
      ]
    },
    {
      "cell_type": "code",
      "source": [
        "plt.figure(figsize=(16,7))\n",
        "plt.plot(history.history[\"loss\"], label= \"train loss\")\n",
        "plt.plot(history.history[\"val_loss\"], label= \"validation loss\")\n",
        "plt.legend();"
      ],
      "metadata": {
        "colab": {
          "base_uri": "https://localhost:8080/",
          "height": 511
        },
        "id": "LrXki-umXP8V",
        "outputId": "287ec794-28fc-4e93-a0cc-f419baf3dd0a"
      },
      "execution_count": 25,
      "outputs": [
        {
          "output_type": "display_data",
          "data": {
            "text/plain": [
              "<Figure size 1600x700 with 1 Axes>"
            ],
            "image/png": "[encoded data removed]"
          },
          "metadata": {}
        }
      ]
    },
    {
      "cell_type": "code",
      "source": [
        "train_predict = model.predict(X_train)\n",
        "test_predict = model.predict(X_test)"
      ],
      "metadata": {
        "colab": {
          "base_uri": "https://localhost:8080/"
        },
        "id": "SXJeCP6NXjtc",
        "outputId": "a0218397-1b39-4542-e259-aeb03e22fefc"
      },
      "execution_count": 26,
      "outputs": [
        {
          "output_type": "stream",
          "name": "stdout",
          "text": [
            "38/38 [==============================] - 1s 6ms/step\n",
            "5/5 [==============================] - 0s 5ms/step\n"
          ]
        }
      ]
    },
    {
      "cell_type": "code",
      "source": [
        "plt.figure(figsize=(16,7))\n",
        "plt.plot(y_test.flatten(), marker='.', label=\"Actual\")\n",
        "plt.plot(test_predict.flatten(), 'r', marker='.', label=\"Predicted\")\n",
        "plt.legend();"
      ],
      "metadata": {
        "colab": {
          "base_uri": "https://localhost:8080/",
          "height": 517
        },
        "id": "aDRR_XonXoTg",
        "outputId": "55330b88-f6a7-484b-a5fe-7de193e9e458"
      },
      "execution_count": 27,
      "outputs": [
        {
          "output_type": "display_data",
          "data": {
            "text/plain": [
              "<Figure size 1600x700 with 1 Axes>"
            ],
            "image/png": "[encoded data removed]"
          },
          "metadata": {}
        }
      ]
    },
    {
      "cell_type": "code",
      "source": [
        "from sklearn.metrics import mean_absolute_error, mean_squared_error\n",
        "\n",
        "train_RMSE = np.sqrt(mean_squared_error(y_train, train_predict))\n",
        "test_RMSE = np.sqrt(mean_squared_error(y_test, test_predict))\n",
        "train_MAE = np.sqrt(mean_absolute_error(y_train, train_predict))\n",
        "test_MAE = np.sqrt(mean_absolute_error(y_test, test_predict))\n",
        "\n",
        "\n",
        "print(f\"Train RMSE: {train_RMSE}\")\n",
        "print(f\"Train MAE: {train_MAE}\")\n",
        "\n",
        "print(f\"Test RMSE: {test_RMSE}\")\n",
        "print(f\"Test MAE: {test_MAE}\")"
      ],
      "metadata": {
        "colab": {
          "base_uri": "https://localhost:8080/"
        },
        "id": "n8bwLaVrXoqO",
        "outputId": "cf436507-04f4-4062-b194-0bceb10d6ad0"
      },
      "execution_count": 29,
      "outputs": [
        {
          "output_type": "stream",
          "name": "stdout",
          "text": [
            "Train RMSE: 13.541267327690695\n",
            "Train MAE: 3.254491669126164\n",
            "Test RMSE: 35.67896251951569\n",
            "Test MAE: 5.93569457798113\n"
          ]
        }
      ]
    },
    {
      "cell_type": "markdown",
      "source": [
        "# at Inference"
      ],
      "metadata": {
        "id": "kdaXuZYhlE_x"
      }
    },
    {
      "cell_type": "code",
      "source": [
        "model.save(\"Microsoft_Stock_Price_Prediction\")"
      ],
      "metadata": {
        "colab": {
          "base_uri": "https://localhost:8080/"
        },
        "id": "mYHkypxhk9cH",
        "outputId": "d67fbb02-5300-43c0-cbb9-111defb9890f"
      },
      "execution_count": 30,
      "outputs": [
        {
          "output_type": "stream",
          "name": "stderr",
          "text": [
            "WARNING:absl:Found untraced functions such as _update_step_xla while saving (showing 1 of 1). These functions will not be directly callable after loading.\n"
          ]
        }
      ]
    },
    {
      "cell_type": "code",
      "source": [
        "import tensorflow as tf\n",
        "import numpy as np"
      ],
      "metadata": {
        "id": "dOotGRTfn3Sd"
      },
      "execution_count": null,
      "outputs": []
    },
    {
      "cell_type": "code",
      "source": [
        "from google.colab import drive\n",
        "drive.mount('/content/drive')"
      ],
      "metadata": {
        "colab": {
          "base_uri": "https://localhost:8080/"
        },
        "id": "uvh9oOxmLRgm",
        "outputId": "ecbe1c34-bc9e-4acd-94eb-b3e91232e939"
      },
      "execution_count": 31,
      "outputs": [
        {
          "output_type": "stream",
          "name": "stdout",
          "text": [
            "Mounted at /content/drive\n"
          ]
        }
      ]
    },
    {
      "cell_type": "code",
      "source": [
        "model = tf.keras.saving.load_model(\"/content/Microsoft_Stock_Price_Prediction\")"
      ],
      "metadata": {
        "id": "aons6uoDk9fV"
      },
      "execution_count": 32,
      "outputs": []
    },
    {
      "cell_type": "code",
      "source": [
        "%cp -av /content/Microsoft_Stock_Price_Prediction /content/drive/MyDrive/Stock_Price_Prediction"
      ],
      "metadata": {
        "colab": {
          "base_uri": "https://localhost:8080/"
        },
        "id": "zR_uT07bk9ih",
        "outputId": "6023478e-2303-4d5e-ec0f-e8310fd96579"
      },
      "execution_count": 33,
      "outputs": [
        {
          "output_type": "stream",
          "name": "stdout",
          "text": [
            "'/content/Microsoft_Stock_Price_Prediction' -> '/content/drive/MyDrive/Stock_Price_Prediction/Microsoft_Stock_Price_Prediction'\n",
            "'/content/Microsoft_Stock_Price_Prediction/variables' -> '/content/drive/MyDrive/Stock_Price_Prediction/Microsoft_Stock_Price_Prediction/variables'\n",
            "'/content/Microsoft_Stock_Price_Prediction/variables/variables.data-00000-of-00001' -> '/content/drive/MyDrive/Stock_Price_Prediction/Microsoft_Stock_Price_Prediction/variables/variables.data-00000-of-00001'\n",
            "'/content/Microsoft_Stock_Price_Prediction/variables/variables.index' -> '/content/drive/MyDrive/Stock_Price_Prediction/Microsoft_Stock_Price_Prediction/variables/variables.index'\n",
            "'/content/Microsoft_Stock_Price_Prediction/assets' -> '/content/drive/MyDrive/Stock_Price_Prediction/Microsoft_Stock_Price_Prediction/assets'\n",
            "'/content/Microsoft_Stock_Price_Prediction/fingerprint.pb' -> '/content/drive/MyDrive/Stock_Price_Prediction/Microsoft_Stock_Price_Prediction/fingerprint.pb'\n",
            "'/content/Microsoft_Stock_Price_Prediction/saved_model.pb' -> '/content/drive/MyDrive/Stock_Price_Prediction/Microsoft_Stock_Price_Prediction/saved_model.pb'\n",
            "'/content/Microsoft_Stock_Price_Prediction/keras_metadata.pb' -> '/content/drive/MyDrive/Stock_Price_Prediction/Microsoft_Stock_Price_Prediction/keras_metadata.pb'\n"
          ]
        }
      ]
    },
    {
      "cell_type": "code",
      "source": [
        "X_test[0].shape"
      ],
      "metadata": {
        "colab": {
          "base_uri": "https://localhost:8080/"
        },
        "id": "rUKUT-QaaaKt",
        "outputId": "f87797d5-adb8-481c-9b7c-6e7dda88b285"
      },
      "execution_count": 34,
      "outputs": [
        {
          "output_type": "execute_result",
          "data": {
            "text/plain": [
              "(7, 1)"
            ]
          },
          "metadata": {},
          "execution_count": 34
        }
      ]
    },
    {
      "cell_type": "code",
      "source": [],
      "metadata": {
        "id": "sOTsOQ_AohXj"
      },
      "execution_count": null,
      "outputs": []
    },
    {
      "cell_type": "code",
      "source": [
        "prices = np.array([[310.11],\n",
        "       [312.31],\n",
        "       [307.  ],\n",
        "       [308.65],\n",
        "       [310.65],\n",
        "       [305.41],\n",
        "       [304.4 ]])\n",
        "\n",
        "prices = prices.reshape(1, -1, 1)\n",
        "prediction_price = model.predict(prices)\n",
        "prediction_price = prediction_price[0][0]\n",
        "print(\"Prediction Price: \", prediction_price)"
      ],
      "metadata": {
        "id": "ae5tO4X4bCIB",
        "colab": {
          "base_uri": "https://localhost:8080/"
        },
        "outputId": "433dbb55-e70b-476e-d30b-c16dbdc85226"
      },
      "execution_count": 35,
      "outputs": [
        {
          "output_type": "stream",
          "name": "stdout",
          "text": [
            "1/1 [==============================] - 1s 506ms/step\n",
            "Prediction Price:  312.37363\n"
          ]
        }
      ]
    },
    {
      "cell_type": "code",
      "source": [
        "print(\"Predicted Microsoft Stock Price: {0:.2f} \".format(prediction_price))"
      ],
      "metadata": {
        "colab": {
          "base_uri": "https://localhost:8080/"
        },
        "id": "3zKBhqE-mehR",
        "outputId": "4bca071b-a90b-4a20-be1d-afe2521be5c4"
      },
      "execution_count": 36,
      "outputs": [
        {
          "output_type": "stream",
          "name": "stdout",
          "text": [
            "Predicted Microsoft Stock Price: 312.37 \n"
          ]
        }
      ]
    },
    {
      "cell_type": "code",
      "source": [
        "tf.__version__"
      ],
      "metadata": {
        "colab": {
          "base_uri": "https://localhost:8080/",
          "height": 36
        },
        "id": "3zHdsckN0-HS",
        "outputId": "7146f759-18af-48ef-b0b7-360e89bb671e"
      },
      "execution_count": null,
      "outputs": [
        {
          "output_type": "execute_result",
          "data": {
            "text/plain": [
              "'2.12.0'"
            ],
            "application/vnd.google.colaboratory.intrinsic+json": {
              "type": "string"
            }
          },
          "metadata": {},
          "execution_count": 40
        }
      ]
    },
    {
      "cell_type": "code",
      "source": [],
      "metadata": {
        "id": "HSrimdY780m5"
      },
      "execution_count": null,
      "outputs": []
    }
  ]
}